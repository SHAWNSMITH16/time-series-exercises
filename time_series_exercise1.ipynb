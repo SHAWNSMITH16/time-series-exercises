{
 "cells": [
  {
   "cell_type": "code",
   "execution_count": 2,
   "id": "0fd03b18",
   "metadata": {},
   "outputs": [],
   "source": [
    "import acquire"
   ]
  },
  {
   "cell_type": "code",
   "execution_count": null,
   "id": "5f17de12",
   "metadata": {},
   "outputs": [],
   "source": [
    "people_df = acquire.get_people()\n",
    "people_df.shape"
   ]
  },
  {
   "cell_type": "code",
   "execution_count": null,
   "id": "61f217fe",
   "metadata": {},
   "outputs": [],
   "source": [
    "people_df.head(1)"
   ]
  },
  {
   "cell_type": "code",
   "execution_count": null,
   "id": "c32cb2ec",
   "metadata": {},
   "outputs": [],
   "source": [
    "planets_df = acquire.get_planets()\n",
    "planets_df.shape"
   ]
  },
  {
   "cell_type": "code",
   "execution_count": null,
   "id": "5d1568e8",
   "metadata": {},
   "outputs": [],
   "source": [
    "planets_df.head(1)"
   ]
  },
  {
   "cell_type": "code",
   "execution_count": null,
   "id": "5f013502",
   "metadata": {},
   "outputs": [],
   "source": [
    "starships_df = acquire.get_starships()\n",
    "starships_df.shape"
   ]
  },
  {
   "cell_type": "code",
   "execution_count": null,
   "id": "6d532c84",
   "metadata": {},
   "outputs": [],
   "source": [
    "starships_df.head(1)"
   ]
  },
  {
   "cell_type": "code",
   "execution_count": null,
   "id": "1e769c8b",
   "metadata": {},
   "outputs": [],
   "source": [
    "acquire.make_csvs(people_df, planets_df, starships_df)"
   ]
  },
  {
   "cell_type": "code",
   "execution_count": null,
   "id": "e5e8caf3",
   "metadata": {},
   "outputs": [],
   "source": [
    "star_wars = acquire.combine_dfs(people_df, planets_df, starships_df)"
   ]
  },
  {
   "cell_type": "code",
   "execution_count": null,
   "id": "1729848f",
   "metadata": {},
   "outputs": [],
   "source": [
    "star_wars.head()"
   ]
  },
  {
   "cell_type": "code",
   "execution_count": 3,
   "id": "36dd0805",
   "metadata": {},
   "outputs": [
    {
     "data": {
      "text/html": [
       "<div>\n",
       "<style scoped>\n",
       "    .dataframe tbody tr th:only-of-type {\n",
       "        vertical-align: middle;\n",
       "    }\n",
       "\n",
       "    .dataframe tbody tr th {\n",
       "        vertical-align: top;\n",
       "    }\n",
       "\n",
       "    .dataframe thead th {\n",
       "        text-align: right;\n",
       "    }\n",
       "</style>\n",
       "<table border=\"1\" class=\"dataframe\">\n",
       "  <thead>\n",
       "    <tr style=\"text-align: right;\">\n",
       "      <th></th>\n",
       "      <th>Date</th>\n",
       "      <th>Consumption</th>\n",
       "      <th>Wind</th>\n",
       "      <th>Solar</th>\n",
       "      <th>Wind+Solar</th>\n",
       "    </tr>\n",
       "  </thead>\n",
       "  <tbody>\n",
       "    <tr>\n",
       "      <th>0</th>\n",
       "      <td>2006-01-01</td>\n",
       "      <td>1069.184</td>\n",
       "      <td>NaN</td>\n",
       "      <td>NaN</td>\n",
       "      <td>NaN</td>\n",
       "    </tr>\n",
       "  </tbody>\n",
       "</table>\n",
       "</div>"
      ],
      "text/plain": [
       "         Date  Consumption  Wind  Solar  Wind+Solar\n",
       "0  2006-01-01     1069.184   NaN    NaN         NaN"
      ]
     },
     "execution_count": 3,
     "metadata": {},
     "output_type": "execute_result"
    }
   ],
   "source": [
    "germany = acquire.get_germany()\n",
    "germany.head(1)"
   ]
  },
  {
   "cell_type": "code",
   "execution_count": null,
   "id": "93ae0a5b",
   "metadata": {},
   "outputs": [],
   "source": []
  }
 ],
 "metadata": {
  "kernelspec": {
   "display_name": "Python 3 (ipykernel)",
   "language": "python",
   "name": "python3"
  },
  "language_info": {
   "codemirror_mode": {
    "name": "ipython",
    "version": 3
   },
   "file_extension": ".py",
   "mimetype": "text/x-python",
   "name": "python",
   "nbconvert_exporter": "python",
   "pygments_lexer": "ipython3",
   "version": "3.9.13"
  }
 },
 "nbformat": 4,
 "nbformat_minor": 5
}
